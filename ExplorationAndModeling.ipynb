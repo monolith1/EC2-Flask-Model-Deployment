{
 "cells": [
  {
   "cell_type": "markdown",
   "id": "152d9233-f209-4006-902b-e1bfab11a832",
   "metadata": {},
   "source": [
    "# Loan Prediction Model for Deployment"
   ]
  },
  {
   "cell_type": "markdown",
   "id": "a45fd4f5-8a73-4b54-bf46-bd9b8f29fbeb",
   "metadata": {},
   "source": [
    "## Importing data, packages"
   ]
  },
  {
   "cell_type": "code",
   "execution_count": 1,
   "id": "33a691f7-6b0f-4b98-aa6e-30880a81a2d0",
   "metadata": {},
   "outputs": [],
   "source": [
    "# import packages for data exploration\n",
    "\n",
    "import pandas as pd\n",
    "import numpy as np\n",
    "from matplotlib import pyplot as plt\n",
    "import seaborn as sns"
   ]
  },
  {
   "cell_type": "code",
   "execution_count": 2,
   "id": "bceb3a27-4f7c-43f4-bef5-08d1520fcc40",
   "metadata": {},
   "outputs": [],
   "source": [
    "# Import packages for data preprocessing\n",
    "\n",
    "from sklearn.pipeline import Pipeline, FeatureUnion\n",
    "from sklearn.compose import ColumnTransformer\n",
    "\n",
    "from sklearn.impute import SimpleImputer\n",
    "from sklearn.preprocessing import OneHotEncoder, FunctionTransformer, PowerTransformer, StandardScaler\n",
    "from sklearn.decomposition import PCA"
   ]
  },
  {
   "cell_type": "code",
   "execution_count": 3,
   "id": "437376ef-ad43-4644-a952-54e68c6c0db4",
   "metadata": {},
   "outputs": [
    {
     "data": {
      "text/html": [
       "<div>\n",
       "<style scoped>\n",
       "    .dataframe tbody tr th:only-of-type {\n",
       "        vertical-align: middle;\n",
       "    }\n",
       "\n",
       "    .dataframe tbody tr th {\n",
       "        vertical-align: top;\n",
       "    }\n",
       "\n",
       "    .dataframe thead th {\n",
       "        text-align: right;\n",
       "    }\n",
       "</style>\n",
       "<table border=\"1\" class=\"dataframe\">\n",
       "  <thead>\n",
       "    <tr style=\"text-align: right;\">\n",
       "      <th></th>\n",
       "      <th>Loan_ID</th>\n",
       "      <th>Gender</th>\n",
       "      <th>Married</th>\n",
       "      <th>Dependents</th>\n",
       "      <th>Education</th>\n",
       "      <th>Self_Employed</th>\n",
       "      <th>ApplicantIncome</th>\n",
       "      <th>CoapplicantIncome</th>\n",
       "      <th>LoanAmount</th>\n",
       "      <th>Loan_Amount_Term</th>\n",
       "      <th>Credit_History</th>\n",
       "      <th>Property_Area</th>\n",
       "      <th>Loan_Status</th>\n",
       "    </tr>\n",
       "  </thead>\n",
       "  <tbody>\n",
       "    <tr>\n",
       "      <th>0</th>\n",
       "      <td>LP001002</td>\n",
       "      <td>Male</td>\n",
       "      <td>No</td>\n",
       "      <td>0</td>\n",
       "      <td>Graduate</td>\n",
       "      <td>No</td>\n",
       "      <td>5849</td>\n",
       "      <td>0.0</td>\n",
       "      <td>NaN</td>\n",
       "      <td>360.0</td>\n",
       "      <td>1.0</td>\n",
       "      <td>Urban</td>\n",
       "      <td>Y</td>\n",
       "    </tr>\n",
       "    <tr>\n",
       "      <th>1</th>\n",
       "      <td>LP001003</td>\n",
       "      <td>Male</td>\n",
       "      <td>Yes</td>\n",
       "      <td>1</td>\n",
       "      <td>Graduate</td>\n",
       "      <td>No</td>\n",
       "      <td>4583</td>\n",
       "      <td>1508.0</td>\n",
       "      <td>128.0</td>\n",
       "      <td>360.0</td>\n",
       "      <td>1.0</td>\n",
       "      <td>Rural</td>\n",
       "      <td>N</td>\n",
       "    </tr>\n",
       "    <tr>\n",
       "      <th>2</th>\n",
       "      <td>LP001005</td>\n",
       "      <td>Male</td>\n",
       "      <td>Yes</td>\n",
       "      <td>0</td>\n",
       "      <td>Graduate</td>\n",
       "      <td>Yes</td>\n",
       "      <td>3000</td>\n",
       "      <td>0.0</td>\n",
       "      <td>66.0</td>\n",
       "      <td>360.0</td>\n",
       "      <td>1.0</td>\n",
       "      <td>Urban</td>\n",
       "      <td>Y</td>\n",
       "    </tr>\n",
       "    <tr>\n",
       "      <th>3</th>\n",
       "      <td>LP001006</td>\n",
       "      <td>Male</td>\n",
       "      <td>Yes</td>\n",
       "      <td>0</td>\n",
       "      <td>Not Graduate</td>\n",
       "      <td>No</td>\n",
       "      <td>2583</td>\n",
       "      <td>2358.0</td>\n",
       "      <td>120.0</td>\n",
       "      <td>360.0</td>\n",
       "      <td>1.0</td>\n",
       "      <td>Urban</td>\n",
       "      <td>Y</td>\n",
       "    </tr>\n",
       "    <tr>\n",
       "      <th>4</th>\n",
       "      <td>LP001008</td>\n",
       "      <td>Male</td>\n",
       "      <td>No</td>\n",
       "      <td>0</td>\n",
       "      <td>Graduate</td>\n",
       "      <td>No</td>\n",
       "      <td>6000</td>\n",
       "      <td>0.0</td>\n",
       "      <td>141.0</td>\n",
       "      <td>360.0</td>\n",
       "      <td>1.0</td>\n",
       "      <td>Urban</td>\n",
       "      <td>Y</td>\n",
       "    </tr>\n",
       "  </tbody>\n",
       "</table>\n",
       "</div>"
      ],
      "text/plain": [
       "    Loan_ID Gender Married Dependents     Education Self_Employed  \\\n",
       "0  LP001002   Male      No          0      Graduate            No   \n",
       "1  LP001003   Male     Yes          1      Graduate            No   \n",
       "2  LP001005   Male     Yes          0      Graduate           Yes   \n",
       "3  LP001006   Male     Yes          0  Not Graduate            No   \n",
       "4  LP001008   Male      No          0      Graduate            No   \n",
       "\n",
       "   ApplicantIncome  CoapplicantIncome  LoanAmount  Loan_Amount_Term  \\\n",
       "0             5849                0.0         NaN             360.0   \n",
       "1             4583             1508.0       128.0             360.0   \n",
       "2             3000                0.0        66.0             360.0   \n",
       "3             2583             2358.0       120.0             360.0   \n",
       "4             6000                0.0       141.0             360.0   \n",
       "\n",
       "   Credit_History Property_Area Loan_Status  \n",
       "0             1.0         Urban           Y  \n",
       "1             1.0         Rural           N  \n",
       "2             1.0         Urban           Y  \n",
       "3             1.0         Urban           Y  \n",
       "4             1.0         Urban           Y  "
      ]
     },
     "execution_count": 3,
     "metadata": {},
     "output_type": "execute_result"
    }
   ],
   "source": [
    "# import csv\n",
    "\n",
    "df = pd.read_csv(\"data.csv\") \n",
    "df.head()"
   ]
  },
  {
   "cell_type": "code",
   "execution_count": 4,
   "id": "1ebf42b2-a445-43ba-b957-0bf6af770c3b",
   "metadata": {},
   "outputs": [
    {
     "data": {
      "text/plain": [
       "(614, 13)"
      ]
     },
     "execution_count": 4,
     "metadata": {},
     "output_type": "execute_result"
    }
   ],
   "source": [
    "df.shape"
   ]
  },
  {
   "cell_type": "code",
   "execution_count": 5,
   "id": "3bf83862-bc82-4c3f-b34f-33a6d0be5477",
   "metadata": {},
   "outputs": [
    {
     "data": {
      "text/html": [
       "<div>\n",
       "<style scoped>\n",
       "    .dataframe tbody tr th:only-of-type {\n",
       "        vertical-align: middle;\n",
       "    }\n",
       "\n",
       "    .dataframe tbody tr th {\n",
       "        vertical-align: top;\n",
       "    }\n",
       "\n",
       "    .dataframe thead th {\n",
       "        text-align: right;\n",
       "    }\n",
       "</style>\n",
       "<table border=\"1\" class=\"dataframe\">\n",
       "  <thead>\n",
       "    <tr style=\"text-align: right;\">\n",
       "      <th></th>\n",
       "      <th>ApplicantIncome</th>\n",
       "      <th>CoapplicantIncome</th>\n",
       "      <th>LoanAmount</th>\n",
       "      <th>Loan_Amount_Term</th>\n",
       "      <th>Credit_History</th>\n",
       "    </tr>\n",
       "  </thead>\n",
       "  <tbody>\n",
       "    <tr>\n",
       "      <th>count</th>\n",
       "      <td>614.000000</td>\n",
       "      <td>614.000000</td>\n",
       "      <td>592.000000</td>\n",
       "      <td>600.00000</td>\n",
       "      <td>564.000000</td>\n",
       "    </tr>\n",
       "    <tr>\n",
       "      <th>mean</th>\n",
       "      <td>5403.459283</td>\n",
       "      <td>1621.245798</td>\n",
       "      <td>146.412162</td>\n",
       "      <td>342.00000</td>\n",
       "      <td>0.842199</td>\n",
       "    </tr>\n",
       "    <tr>\n",
       "      <th>std</th>\n",
       "      <td>6109.041673</td>\n",
       "      <td>2926.248369</td>\n",
       "      <td>85.587325</td>\n",
       "      <td>65.12041</td>\n",
       "      <td>0.364878</td>\n",
       "    </tr>\n",
       "    <tr>\n",
       "      <th>min</th>\n",
       "      <td>150.000000</td>\n",
       "      <td>0.000000</td>\n",
       "      <td>9.000000</td>\n",
       "      <td>12.00000</td>\n",
       "      <td>0.000000</td>\n",
       "    </tr>\n",
       "    <tr>\n",
       "      <th>25%</th>\n",
       "      <td>2877.500000</td>\n",
       "      <td>0.000000</td>\n",
       "      <td>100.000000</td>\n",
       "      <td>360.00000</td>\n",
       "      <td>1.000000</td>\n",
       "    </tr>\n",
       "    <tr>\n",
       "      <th>50%</th>\n",
       "      <td>3812.500000</td>\n",
       "      <td>1188.500000</td>\n",
       "      <td>128.000000</td>\n",
       "      <td>360.00000</td>\n",
       "      <td>1.000000</td>\n",
       "    </tr>\n",
       "    <tr>\n",
       "      <th>75%</th>\n",
       "      <td>5795.000000</td>\n",
       "      <td>2297.250000</td>\n",
       "      <td>168.000000</td>\n",
       "      <td>360.00000</td>\n",
       "      <td>1.000000</td>\n",
       "    </tr>\n",
       "    <tr>\n",
       "      <th>max</th>\n",
       "      <td>81000.000000</td>\n",
       "      <td>41667.000000</td>\n",
       "      <td>700.000000</td>\n",
       "      <td>480.00000</td>\n",
       "      <td>1.000000</td>\n",
       "    </tr>\n",
       "  </tbody>\n",
       "</table>\n",
       "</div>"
      ],
      "text/plain": [
       "       ApplicantIncome  CoapplicantIncome  LoanAmount  Loan_Amount_Term  \\\n",
       "count       614.000000         614.000000  592.000000         600.00000   \n",
       "mean       5403.459283        1621.245798  146.412162         342.00000   \n",
       "std        6109.041673        2926.248369   85.587325          65.12041   \n",
       "min         150.000000           0.000000    9.000000          12.00000   \n",
       "25%        2877.500000           0.000000  100.000000         360.00000   \n",
       "50%        3812.500000        1188.500000  128.000000         360.00000   \n",
       "75%        5795.000000        2297.250000  168.000000         360.00000   \n",
       "max       81000.000000       41667.000000  700.000000         480.00000   \n",
       "\n",
       "       Credit_History  \n",
       "count      564.000000  \n",
       "mean         0.842199  \n",
       "std          0.364878  \n",
       "min          0.000000  \n",
       "25%          1.000000  \n",
       "50%          1.000000  \n",
       "75%          1.000000  \n",
       "max          1.000000  "
      ]
     },
     "execution_count": 5,
     "metadata": {},
     "output_type": "execute_result"
    }
   ],
   "source": [
    "df.describe()"
   ]
  },
  {
   "cell_type": "code",
   "execution_count": 6,
   "id": "44ffece7-3831-4f30-9090-fb3c4e396c3c",
   "metadata": {},
   "outputs": [
    {
     "data": {
      "text/plain": [
       "Loan_ID               object\n",
       "Gender                object\n",
       "Married               object\n",
       "Dependents            object\n",
       "Education             object\n",
       "Self_Employed         object\n",
       "ApplicantIncome        int64\n",
       "CoapplicantIncome    float64\n",
       "LoanAmount           float64\n",
       "Loan_Amount_Term     float64\n",
       "Credit_History       float64\n",
       "Property_Area         object\n",
       "Loan_Status           object\n",
       "dtype: object"
      ]
     },
     "execution_count": 6,
     "metadata": {},
     "output_type": "execute_result"
    }
   ],
   "source": [
    "df.dtypes"
   ]
  },
  {
   "cell_type": "markdown",
   "id": "ae03e6cf-12da-40bf-a780-c71c5842b475",
   "metadata": {},
   "source": [
    "## Split out train and test"
   ]
  },
  {
   "cell_type": "code",
   "execution_count": 7,
   "id": "a8f386bf-bc24-4466-8287-e89ab3ba963d",
   "metadata": {},
   "outputs": [],
   "source": [
    "# Encode target variable to 0 and 1 (for XGBoost)\n",
    "\n",
    "df['Loan_Status'].replace('Y', 1, inplace=True)\n",
    "df['Loan_Status'].replace('N', 0, inplace=True)"
   ]
  },
  {
   "cell_type": "code",
   "execution_count": 8,
   "id": "4924cda4-dc9b-49db-8d24-1ba8b6e05449",
   "metadata": {},
   "outputs": [],
   "source": [
    "# Drop ID Column\n",
    "\n",
    "df.drop(['Loan_ID'], axis=1, inplace=True)"
   ]
  },
  {
   "cell_type": "code",
   "execution_count": 9,
   "id": "c4ee0a09-3bf7-4962-9866-15ef46185b95",
   "metadata": {},
   "outputs": [],
   "source": [
    "# separate out X and y values\n",
    "\n",
    "X = df.drop(['Loan_Status'], axis=1)\n",
    "y = df.Loan_Status"
   ]
  },
  {
   "cell_type": "code",
   "execution_count": 10,
   "id": "3c5c7617-9f24-4609-a18d-efe5d11df3c1",
   "metadata": {},
   "outputs": [],
   "source": [
    "# split out test and train data\n",
    "\n",
    "from sklearn.model_selection import train_test_split\n",
    "X_train, X_test, y_train, y_test = train_test_split(X, y, test_size=0.2, random_state=101, stratify=y)"
   ]
  },
  {
   "cell_type": "markdown",
   "id": "980061b7-b90c-4147-9ab5-e66bcd32daab",
   "metadata": {},
   "source": [
    "## Data Exploration"
   ]
  },
  {
   "cell_type": "markdown",
   "id": "b164ad57-ecfa-4168-8085-2a3a2ae7c556",
   "metadata": {},
   "source": [
    "### Missing Values"
   ]
  },
  {
   "cell_type": "code",
   "execution_count": 11,
   "id": "a7216222-d279-4cd3-a034-2e6ff02172a1",
   "metadata": {},
   "outputs": [
    {
     "data": {
      "text/plain": [
       "Credit_History       8.146640\n",
       "Self_Employed        4.684318\n",
       "LoanAmount           3.462322\n",
       "Loan_Amount_Term     2.647658\n",
       "Dependents           2.647658\n",
       "Gender               2.036660\n",
       "Married              0.407332\n",
       "Property_Area        0.000000\n",
       "CoapplicantIncome    0.000000\n",
       "ApplicantIncome      0.000000\n",
       "Education            0.000000\n",
       "dtype: float64"
      ]
     },
     "execution_count": 11,
     "metadata": {},
     "output_type": "execute_result"
    }
   ],
   "source": [
    "# Find missing values in percent\n",
    "\n",
    "X_train.isna().sum().div(len(X_train)).mul(100).sort_values(ascending=False)"
   ]
  },
  {
   "cell_type": "code",
   "execution_count": 12,
   "id": "40559193-2cee-489e-b09f-9b70a87a4af3",
   "metadata": {},
   "outputs": [
    {
     "data": {
      "text/plain": [
       "0"
      ]
     },
     "execution_count": 12,
     "metadata": {},
     "output_type": "execute_result"
    }
   ],
   "source": [
    "# don't forget to check target variable\n",
    "\n",
    "y_train.isna().sum()"
   ]
  },
  {
   "cell_type": "markdown",
   "id": "93f867d6-3e11-4eea-a406-0e137bb9c567",
   "metadata": {},
   "source": [
    "### Target Feature"
   ]
  },
  {
   "cell_type": "code",
   "execution_count": 13,
   "id": "8fa7ed35-ce08-4edf-8c6a-6d8cd87da82a",
   "metadata": {},
   "outputs": [
    {
     "data": {
      "image/png": "[encoded data removed]",
      "text/plain": [
       "<Figure size 864x576 with 1 Axes>"
      ]
     },
     "metadata": {
      "needs_background": "light"
     },
     "output_type": "display_data"
    }
   ],
   "source": [
    "plt.figure(figsize=(12, 8))\n",
    "ax = y.value_counts().plot(kind=\"bar\")\n",
    "# ax.set_title(\"Class Frequency\")\n",
    "# ax.set_xlabel(\"Approval Class\")\n",
    "# ax.set_ylabel(\"Frequency\")\n",
    "# ax.set_xticklabels(['yes','no'])"
   ]
  },
  {
   "cell_type": "markdown",
   "id": "b537ffe3-9b3a-45a5-a534-43d09466da4e",
   "metadata": {},
   "source": [
    "### Numerical Features"
   ]
  },
  {
   "cell_type": "code",
   "execution_count": 14,
   "id": "409d95ba-52c0-47c3-bc10-c9b4fc07367f",
   "metadata": {},
   "outputs": [
    {
     "data": {
      "text/plain": [
       "<AxesSubplot:>"
      ]
     },
     "execution_count": 14,
     "metadata": {},
     "output_type": "execute_result"
    },
    {
     "data": {
      "image/png": "[encoded data removed]",
      "text/plain": [
       "<Figure size 432x288 with 1 Axes>"
      ]
     },
     "metadata": {
      "needs_background": "light"
     },
     "output_type": "display_data"
    }
   ],
   "source": [
    "# Credit History distribution\n",
    "\n",
    "X_train.Credit_History.value_counts().plot(kind='bar')"
   ]
  },
  {
   "cell_type": "code",
   "execution_count": 26,
   "id": "0a5559d7-5699-4b86-9cd3-542644a33eee",
   "metadata": {
    "tags": []
   },
   "outputs": [
    {
     "data": {
      "text/plain": [
       "<matplotlib.legend.Legend at 0x7fd098cad820>"
      ]
     },
     "execution_count": 26,
     "metadata": {},
     "output_type": "execute_result"
    },
    {
     "data": {
      "image/png": "[encoded data removed]",
      "text/plain": [
       "<Figure size 576x432 with 1 Axes>"
      ]
     },
     "metadata": {
      "needs_background": "light"
     },
     "output_type": "display_data"
    }
   ],
   "source": [
    "# Applicant Income, Coapplicant Income Distribution\n",
    "\n",
    "plt.figure(figsize=(8,6))\n",
    "plt.hist(X_train.ApplicantIncome, bins=100, alpha=0.5, label=\"Applicant Income\")\n",
    "plt.hist(X_train.CoapplicantIncome, bins=100, alpha=0.5, label=\"Coapplicant Income\")\n",
    "\n",
    "plt.xlabel(\"Data\", size=14)\n",
    "plt.ylabel(\"Count\", size=14)\n",
    "plt.title(\"Applicant and Coapplicant Income Distributions\")\n",
    "plt.legend(loc='upper right')"
   ]
  },
  {
   "cell_type": "code",
   "execution_count": 16,
   "id": "24ae36bc-ca0a-4eac-8b2f-51d17e2fc519",
   "metadata": {},
   "outputs": [
    {
     "data": {
      "text/plain": [
       "<matplotlib.legend.Legend at 0x7f507e70d100>"
      ]
     },
     "execution_count": 16,
     "metadata": {},
     "output_type": "execute_result"
    },
    {
     "data": {
      "image/png": "[encoded data removed]",
      "text/plain": [
       "<Figure size 576x432 with 1 Axes>"
      ]
     },
     "metadata": {
      "needs_background": "light"
     },
     "output_type": "display_data"
    }
   ],
   "source": [
    "# Distribution of Income filtered by Education Status\n",
    "\n",
    "plt.figure(figsize=(8,6))\n",
    "plt.hist(X_train[X_train.Education == 'Graduate']['ApplicantIncome'], bins=100, alpha=0.5, label=\"Applicant Income (Graduate)\")\n",
    "plt.hist(X_train[X_train.Education == 'Not Graduate']['ApplicantIncome'], bins=100, alpha=0.5, label=\"Applicant Income (Not Graduate)\")\n",
    "\n",
    "plt.xlabel(\"Data\", size=14)\n",
    "plt.ylabel(\"Count\", size=14)\n",
    "plt.title(\"Applicant Income Distributions by Education\")\n",
    "plt.legend(loc='upper right')"
   ]
  },
  {
   "cell_type": "code",
   "execution_count": 17,
   "id": "bfda11d6-9740-4626-9bb2-2b6b05da4c20",
   "metadata": {},
   "outputs": [
    {
     "data": {
      "text/plain": [
       "Text(0.5, 1.0, 'Loan Amount Distribution')"
      ]
     },
     "execution_count": 17,
     "metadata": {},
     "output_type": "execute_result"
    },
    {
     "data": {
      "image/png": "[encoded data removed]",
      "text/plain": [
       "<Figure size 576x432 with 1 Axes>"
      ]
     },
     "metadata": {
      "needs_background": "light"
     },
     "output_type": "display_data"
    }
   ],
   "source": [
    "# Loan Amount Distribution\n",
    "\n",
    "plt.figure(figsize=(8,6))\n",
    "plt.hist(X_train.LoanAmount, bins=100, alpha=0.5, label=\"Loan Term\")\n",
    "\n",
    "plt.xlabel(\"Loan Amount\", size=14)\n",
    "plt.ylabel(\"Count\", size=14)\n",
    "plt.title(\"Loan Amount Distribution\")"
   ]
  },
  {
   "cell_type": "markdown",
   "id": "9a255e94-4f04-44dd-831f-61d11ad8834e",
   "metadata": {},
   "source": [
    "### Categorical Features"
   ]
  },
  {
   "cell_type": "code",
   "execution_count": 18,
   "id": "1732311f-9d9f-46cd-b866-10bffaed4912",
   "metadata": {},
   "outputs": [
    {
     "data": {
      "text/plain": [
       "<AxesSubplot:>"
      ]
     },
     "execution_count": 18,
     "metadata": {},
     "output_type": "execute_result"
    },
    {
     "data": {
      "image/png": "[encoded data removed]",
      "text/plain": [
       "<Figure size 432x288 with 1 Axes>"
      ]
     },
     "metadata": {
      "needs_background": "light"
     },
     "output_type": "display_data"
    }
   ],
   "source": [
    "# Married distribution\n",
    "\n",
    "X_train.Married.value_counts().plot(kind='bar')"
   ]
  },
  {
   "cell_type": "code",
   "execution_count": 19,
   "id": "26fdaa65-5587-488d-8924-f0e742267c05",
   "metadata": {},
   "outputs": [
    {
     "data": {
      "text/plain": [
       "<AxesSubplot:>"
      ]
     },
     "execution_count": 19,
     "metadata": {},
     "output_type": "execute_result"
    },
    {
     "data": {
      "image/png": "[encoded data removed]",
      "text/plain": [
       "<Figure size 432x288 with 1 Axes>"
      ]
     },
     "metadata": {
      "needs_background": "light"
     },
     "output_type": "display_data"
    }
   ],
   "source": [
    "# Self employed distribution\n",
    "\n",
    "X_train.Self_Employed.value_counts().plot(kind='bar')"
   ]
  },
  {
   "cell_type": "code",
   "execution_count": 20,
   "id": "09138376-fc54-4f22-900e-90735a818ae2",
   "metadata": {},
   "outputs": [
    {
     "data": {
      "text/plain": [
       "<AxesSubplot:>"
      ]
     },
     "execution_count": 20,
     "metadata": {},
     "output_type": "execute_result"
    },
    {
     "data": {
      "image/png": "[encoded data removed]",
      "text/plain": [
       "<Figure size 432x288 with 1 Axes>"
      ]
     },
     "metadata": {
      "needs_background": "light"
     },
     "output_type": "display_data"
    }
   ],
   "source": [
    "# Education distribution\n",
    "\n",
    "X_train.Education.value_counts().plot(kind='bar')"
   ]
  },
  {
   "cell_type": "code",
   "execution_count": 21,
   "id": "d047a030-8684-4f5e-97cd-19dabda2da23",
   "metadata": {},
   "outputs": [
    {
     "data": {
      "text/plain": [
       "<AxesSubplot:>"
      ]
     },
     "execution_count": 21,
     "metadata": {},
     "output_type": "execute_result"
    },
    {
     "data": {
      "image/png": "[encoded data removed]",
      "text/plain": [
       "<Figure size 432x288 with 1 Axes>"
      ]
     },
     "metadata": {
      "needs_background": "light"
     },
     "output_type": "display_data"
    }
   ],
   "source": [
    "# Property area distribution\n",
    "\n",
    "X_train.Property_Area.value_counts().plot(kind='bar')"
   ]
  },
  {
   "cell_type": "code",
   "execution_count": 22,
   "id": "4fe8b75a-8fd4-4782-8ad3-3422fcb94285",
   "metadata": {},
   "outputs": [
    {
     "data": {
      "text/plain": [
       "<AxesSubplot:>"
      ]
     },
     "execution_count": 22,
     "metadata": {},
     "output_type": "execute_result"
    },
    {
     "data": {
      "image/png": "[encoded data removed]",
      "text/plain": [
       "<Figure size 432x288 with 1 Axes>"
      ]
     },
     "metadata": {
      "needs_background": "light"
     },
     "output_type": "display_data"
    }
   ],
   "source": [
    "# Gender distribution\n",
    "\n",
    "X_train.Gender.value_counts().plot(kind='bar')"
   ]
  },
  {
   "cell_type": "markdown",
   "id": "e7f2d83a-bf96-4359-9e38-2d5d6bd1a91c",
   "metadata": {},
   "source": [
    "## Pre-Modeling Data Steps"
   ]
  },
  {
   "cell_type": "code",
   "execution_count": 23,
   "id": "b6321757-c1d9-4068-921f-97716143ff82",
   "metadata": {},
   "outputs": [],
   "source": [
    "# Apply oversampling to training data to deal with class imbalance\n",
    "# NOTE that this is not in pipeline because it is only done to training data\n",
    "\n",
    "from imblearn.over_sampling import RandomOverSampler\n",
    "ros = RandomOverSampler(random_state=808)\n",
    "X_train, y_train = ros.fit_resample(X_train, y_train)"
   ]
  },
  {
   "cell_type": "code",
   "execution_count": 24,
   "id": "05497a7c-2cdb-438d-82c7-cf3b270e9e0b",
   "metadata": {},
   "outputs": [
    {
     "data": {
      "text/plain": [
       "<AxesSubplot:>"
      ]
     },
     "execution_count": 24,
     "metadata": {},
     "output_type": "execute_result"
    },
    {
     "data": {
      "image/png": "[encoded data removed]",
      "text/plain": [
       "<Figure size 432x288 with 1 Axes>"
      ]
     },
     "metadata": {
      "needs_background": "light"
     },
     "output_type": "display_data"
    }
   ],
   "source": [
    "# verify resample\n",
    "\n",
    "y_train.value_counts().plot(kind='bar')"
   ]
  },
  {
   "cell_type": "markdown",
   "id": "387495a9-dde8-4073-bb0a-417786f2055b",
   "metadata": {},
   "source": [
    "## Construct Pipeline / Build Model"
   ]
  },
  {
   "cell_type": "markdown",
   "id": "d68f548f-3bc9-4a94-9ece-d21dbd8f702c",
   "metadata": {},
   "source": [
    "Flow:\n",
    "* Split between numerical and categorical\n",
    "* categorical\n",
    "    * impute missing values (most_frequent)\n",
    "    * onehot encoding\n",
    "    * to_dense\n",
    "    * PCA\n",
    "* numerical\n",
    "    * impute missing values (mean)\n",
    "    * log_transform\n",
    "    * standard scale\n",
    "    * variance threshold\n",
    "    * forward regression\n",
    "* apply model"
   ]
  },
  {
   "cell_type": "code",
   "execution_count": 25,
   "id": "320f1f41-7691-4a18-bb29-48d34831f7a4",
   "metadata": {},
   "outputs": [
    {
     "data": {
      "text/html": [
       "<div>\n",
       "<style scoped>\n",
       "    .dataframe tbody tr th:only-of-type {\n",
       "        vertical-align: middle;\n",
       "    }\n",
       "\n",
       "    .dataframe tbody tr th {\n",
       "        vertical-align: top;\n",
       "    }\n",
       "\n",
       "    .dataframe thead th {\n",
       "        text-align: right;\n",
       "    }\n",
       "</style>\n",
       "<table border=\"1\" class=\"dataframe\">\n",
       "  <thead>\n",
       "    <tr style=\"text-align: right;\">\n",
       "      <th></th>\n",
       "      <th>Gender</th>\n",
       "      <th>Married</th>\n",
       "      <th>Dependents</th>\n",
       "      <th>Education</th>\n",
       "      <th>Self_Employed</th>\n",
       "      <th>ApplicantIncome</th>\n",
       "      <th>CoapplicantIncome</th>\n",
       "      <th>LoanAmount</th>\n",
       "      <th>Loan_Amount_Term</th>\n",
       "      <th>Credit_History</th>\n",
       "      <th>Property_Area</th>\n",
       "      <th>Loan_Status</th>\n",
       "    </tr>\n",
       "  </thead>\n",
       "  <tbody>\n",
       "    <tr>\n",
       "      <th>0</th>\n",
       "      <td>Male</td>\n",
       "      <td>No</td>\n",
       "      <td>0</td>\n",
       "      <td>Graduate</td>\n",
       "      <td>No</td>\n",
       "      <td>5849</td>\n",
       "      <td>0.0</td>\n",
       "      <td>NaN</td>\n",
       "      <td>360.0</td>\n",
       "      <td>1.0</td>\n",
       "      <td>Urban</td>\n",
       "      <td>1</td>\n",
       "    </tr>\n",
       "    <tr>\n",
       "      <th>1</th>\n",
       "      <td>Male</td>\n",
       "      <td>Yes</td>\n",
       "      <td>1</td>\n",
       "      <td>Graduate</td>\n",
       "      <td>No</td>\n",
       "      <td>4583</td>\n",
       "      <td>1508.0</td>\n",
       "      <td>128.0</td>\n",
       "      <td>360.0</td>\n",
       "      <td>1.0</td>\n",
       "      <td>Rural</td>\n",
       "      <td>0</td>\n",
       "    </tr>\n",
       "    <tr>\n",
       "      <th>2</th>\n",
       "      <td>Male</td>\n",
       "      <td>Yes</td>\n",
       "      <td>0</td>\n",
       "      <td>Graduate</td>\n",
       "      <td>Yes</td>\n",
       "      <td>3000</td>\n",
       "      <td>0.0</td>\n",
       "      <td>66.0</td>\n",
       "      <td>360.0</td>\n",
       "      <td>1.0</td>\n",
       "      <td>Urban</td>\n",
       "      <td>1</td>\n",
       "    </tr>\n",
       "    <tr>\n",
       "      <th>3</th>\n",
       "      <td>Male</td>\n",
       "      <td>Yes</td>\n",
       "      <td>0</td>\n",
       "      <td>Not Graduate</td>\n",
       "      <td>No</td>\n",
       "      <td>2583</td>\n",
       "      <td>2358.0</td>\n",
       "      <td>120.0</td>\n",
       "      <td>360.0</td>\n",
       "      <td>1.0</td>\n",
       "      <td>Urban</td>\n",
       "      <td>1</td>\n",
       "    </tr>\n",
       "    <tr>\n",
       "      <th>4</th>\n",
       "      <td>Male</td>\n",
       "      <td>No</td>\n",
       "      <td>0</td>\n",
       "      <td>Graduate</td>\n",
       "      <td>No</td>\n",
       "      <td>6000</td>\n",
       "      <td>0.0</td>\n",
       "      <td>141.0</td>\n",
       "      <td>360.0</td>\n",
       "      <td>1.0</td>\n",
       "      <td>Urban</td>\n",
       "      <td>1</td>\n",
       "    </tr>\n",
       "  </tbody>\n",
       "</table>\n",
       "</div>"
      ],
      "text/plain": [
       "  Gender Married Dependents     Education Self_Employed  ApplicantIncome  \\\n",
       "0   Male      No          0      Graduate            No             5849   \n",
       "1   Male     Yes          1      Graduate            No             4583   \n",
       "2   Male     Yes          0      Graduate           Yes             3000   \n",
       "3   Male     Yes          0  Not Graduate            No             2583   \n",
       "4   Male      No          0      Graduate            No             6000   \n",
       "\n",
       "   CoapplicantIncome  LoanAmount  Loan_Amount_Term  Credit_History  \\\n",
       "0                0.0         NaN             360.0             1.0   \n",
       "1             1508.0       128.0             360.0             1.0   \n",
       "2                0.0        66.0             360.0             1.0   \n",
       "3             2358.0       120.0             360.0             1.0   \n",
       "4                0.0       141.0             360.0             1.0   \n",
       "\n",
       "  Property_Area  Loan_Status  \n",
       "0         Urban            1  \n",
       "1         Rural            0  \n",
       "2         Urban            1  \n",
       "3         Urban            1  \n",
       "4         Urban            1  "
      ]
     },
     "execution_count": 25,
     "metadata": {},
     "output_type": "execute_result"
    }
   ],
   "source": [
    "df.head()"
   ]
  },
  {
   "cell_type": "code",
   "execution_count": 26,
   "id": "958444b5-0ac0-484d-9f3e-137ee8eb8fe1",
   "metadata": {},
   "outputs": [],
   "source": [
    "# Get list of column names for categorical, numerical features\n",
    "\n",
    "\n",
    "cat_feats = X_train.dtypes[X_train.dtypes == 'object'].index.tolist()\n",
    "num_feats = X_train.dtypes[~X_train.dtypes.index.isin(cat_feats)].index.tolist()"
   ]
  },
  {
   "cell_type": "code",
   "execution_count": 27,
   "id": "36586031-8ceb-4b6b-b36c-e5dd8498f982",
   "metadata": {},
   "outputs": [
    {
     "data": {
      "text/plain": [
       "'Loan_Amount_Term'"
      ]
     },
     "execution_count": 27,
     "metadata": {},
     "output_type": "execute_result"
    }
   ],
   "source": [
    "# We will process Credit_History and Loan_Amount_Term seperately \n",
    "\n",
    "num_feats.pop()\n",
    "num_feats.pop()"
   ]
  },
  {
   "cell_type": "code",
   "execution_count": 28,
   "id": "860c82f0-a30c-49c4-9fb5-dc322a6952de",
   "metadata": {},
   "outputs": [
    {
     "data": {
      "text/plain": [
       "['ApplicantIncome', 'CoapplicantIncome', 'LoanAmount']"
      ]
     },
     "execution_count": 28,
     "metadata": {},
     "output_type": "execute_result"
    }
   ],
   "source": [
    "num_feats"
   ]
  },
  {
   "cell_type": "code",
   "execution_count": 29,
   "id": "57ba32e7-c942-40a2-bc9a-6d3ec665f89a",
   "metadata": {},
   "outputs": [],
   "source": [
    "# fill missing values in Credit_History with 0\n",
    "# assumption\n",
    "\n",
    "def credit_nan(x):\n",
    "    return x.replace(np.nan, 0)\n",
    "\n",
    "credit_nan_transformer = FunctionTransformer(credit_nan)"
   ]
  },
  {
   "cell_type": "code",
   "execution_count": 30,
   "id": "a0cd1cb6-0b53-49b5-b170-1002049c1c22",
   "metadata": {},
   "outputs": [],
   "source": [
    "# create to_dense function for use after onehot encoding\n",
    "\n",
    "def to_dense(x):\n",
    "    return x.toarray()\n",
    "\n",
    "to_dense_transformer = FunctionTransformer(to_dense)"
   ]
  },
  {
   "cell_type": "code",
   "execution_count": 31,
   "id": "3c65006f-71f5-4996-a8ad-934b693af76d",
   "metadata": {},
   "outputs": [],
   "source": [
    "# import classifiers\n",
    "\n",
    "from sklearn.tree import DecisionTreeClassifier\n",
    "from sklearn.ensemble import RandomForestClassifier, AdaBoostClassifier\n",
    "from sklearn.naive_bayes import GaussianNB\n",
    "from sklearn.svm import LinearSVC\n",
    "from xgboost import XGBClassifier"
   ]
  },
  {
   "cell_type": "code",
   "execution_count": 32,
   "id": "7fdfcb76-2f6c-4805-836b-47c9e56f5bd0",
   "metadata": {},
   "outputs": [],
   "source": [
    "# create numerical processing pipeline\n",
    "\n",
    "num_processing = Pipeline([('num_impute', SimpleImputer()),\n",
    "                           ('transform', PowerTransformer())\n",
    "                          ])"
   ]
  },
  {
   "cell_type": "code",
   "execution_count": 33,
   "id": "4c0604b1-3ac8-48c6-8c59-c4deca78377d",
   "metadata": {},
   "outputs": [],
   "source": [
    "# create categorical processing pipeline\n",
    "\n",
    "cat_processing = Pipeline([('cat_impute', SimpleImputer(strategy='most_frequent')),\n",
    "                           ('onehot', OneHotEncoder()),\n",
    "                           ('dense', to_dense_transformer),\n",
    "                           ('pca', PCA(n_components=3))\n",
    "                          ])"
   ]
  },
  {
   "cell_type": "code",
   "execution_count": 34,
   "id": "467a22b4-fad6-4f4c-98eb-3369d314a6f6",
   "metadata": {},
   "outputs": [],
   "source": [
    "# create Credit_History processing pipeline\n",
    "\n",
    "credit_processing = Pipeline([('nan', credit_nan_transformer)])"
   ]
  },
  {
   "cell_type": "code",
   "execution_count": 35,
   "id": "67adac32-baf2-4cd5-a10f-eaa8a59ad528",
   "metadata": {},
   "outputs": [],
   "source": [
    "# create Loan_Amount_Term pipeline\n",
    "\n",
    "term_processing = Pipeline([('num_impute', SimpleImputer()),\n",
    "                            ('scale', StandardScaler())\n",
    "                           ])"
   ]
  },
  {
   "cell_type": "code",
   "execution_count": 36,
   "id": "f7b73b3c-8396-43c8-9478-872d8fb69ec3",
   "metadata": {},
   "outputs": [],
   "source": [
    "# combine the four pipelines so they can be fitted to the final pipeline\n",
    "\n",
    "processing = ColumnTransformer([('numerical', num_processing, num_feats),\n",
    "                                ('categorical', cat_processing, cat_feats),\n",
    "                                ('credit', credit_processing, ['Credit_History']),\n",
    "                                ('term', term_processing, ['Loan_Amount_Term'])\n",
    "                               ])"
   ]
  },
  {
   "cell_type": "code",
   "execution_count": 37,
   "id": "9aea92e8-647d-4e70-b9a5-44d37ffb35e6",
   "metadata": {},
   "outputs": [],
   "source": [
    "# assemble final pipeline\n",
    "\n",
    "pipeline = Pipeline([('processing', processing),\n",
    "                     ('clf', DecisionTreeClassifier())\n",
    "                    ])"
   ]
  },
  {
   "cell_type": "code",
   "execution_count": 38,
   "id": "faaa06fe-eb09-4469-88b3-8012db6daf7e",
   "metadata": {},
   "outputs": [
    {
     "data": {
      "text/plain": [
       "Pipeline(steps=[('processing',\n",
       "                 ColumnTransformer(transformers=[('numerical',\n",
       "                                                  Pipeline(steps=[('num_impute',\n",
       "                                                                   SimpleImputer()),\n",
       "                                                                  ('transform',\n",
       "                                                                   PowerTransformer())]),\n",
       "                                                  ['ApplicantIncome',\n",
       "                                                   'CoapplicantIncome',\n",
       "                                                   'LoanAmount']),\n",
       "                                                 ('categorical',\n",
       "                                                  Pipeline(steps=[('cat_impute',\n",
       "                                                                   SimpleImputer(strategy='most_frequent')),\n",
       "                                                                  ('onehot',\n",
       "                                                                   OneHotEncoder()),\n",
       "                                                                  ('dense',\n",
       "                                                                   FunctionTransform...\n",
       "                                                                   PCA(n_components=3))]),\n",
       "                                                  ['Gender', 'Married',\n",
       "                                                   'Dependents', 'Education',\n",
       "                                                   'Self_Employed',\n",
       "                                                   'Property_Area']),\n",
       "                                                 ('credit',\n",
       "                                                  Pipeline(steps=[('nan',\n",
       "                                                                   FunctionTransformer(func=<function credit_nan at 0x7f508ac2c9d0>))]),\n",
       "                                                  ['Credit_History']),\n",
       "                                                 ('term',\n",
       "                                                  Pipeline(steps=[('num_impute',\n",
       "                                                                   SimpleImputer()),\n",
       "                                                                  ('scale',\n",
       "                                                                   StandardScaler())]),\n",
       "                                                  ['Loan_Amount_Term'])])),\n",
       "                ('clf', DecisionTreeClassifier())])"
      ]
     },
     "execution_count": 38,
     "metadata": {},
     "output_type": "execute_result"
    }
   ],
   "source": [
    "# fit pipeline to training data\n",
    "\n",
    "pipeline.fit(X_train, y_train)"
   ]
  },
  {
   "cell_type": "code",
   "execution_count": 39,
   "id": "6dcd5a29-1005-4830-af8e-a4cba571d786",
   "metadata": {},
   "outputs": [
    {
     "data": {
      "text/plain": [
       "0.6991869918699187"
      ]
     },
     "execution_count": 39,
     "metadata": {},
     "output_type": "execute_result"
    }
   ],
   "source": [
    "# check score\n",
    "\n",
    "pipeline.score(X_test,y_test)"
   ]
  },
  {
   "cell_type": "code",
   "execution_count": 40,
   "id": "3c556d9c-efc8-4e40-80ba-8ba2fd36acba",
   "metadata": {},
   "outputs": [
    {
     "data": {
      "text/plain": [
       "<sklearn.metrics._plot.confusion_matrix.ConfusionMatrixDisplay at 0x7f507d589f40>"
      ]
     },
     "execution_count": 40,
     "metadata": {},
     "output_type": "execute_result"
    },
    {
     "data": {
      "image/png": "[encoded data removed]",
      "text/plain": [
       "<Figure size 432x288 with 2 Axes>"
      ]
     },
     "metadata": {
      "needs_background": "light"
     },
     "output_type": "display_data"
    }
   ],
   "source": [
    "# check confusion matrix\n",
    "\n",
    "from sklearn import metrics\n",
    "\n",
    "y_pred = pipeline.predict(X_test)\n",
    "cm = metrics.confusion_matrix(y_test, y_pred, labels=pipeline.classes_)\n",
    "disp = metrics.ConfusionMatrixDisplay(cm, display_labels=pipeline.classes_)\n",
    "disp.plot()"
   ]
  },
  {
   "cell_type": "markdown",
   "id": "04eb92b0-2ce6-4217-af60-b5f853ad2393",
   "metadata": {},
   "source": [
    "## Model Tuning"
   ]
  },
  {
   "cell_type": "code",
   "execution_count": 41,
   "id": "b8b2db16-8305-44da-82f9-698d3f66110f",
   "metadata": {},
   "outputs": [],
   "source": [
    "from sklearn.model_selection import GridSearchCV"
   ]
  },
  {
   "cell_type": "code",
   "execution_count": 42,
   "id": "b34f1820-a9e5-4be5-ad66-a8742937ae19",
   "metadata": {},
   "outputs": [],
   "source": [
    "# create parameter grid for tuning\n",
    "\n",
    "param_grid = [{'processing__categorical__pca__n_components': [2,3,4],\n",
    "              'clf': [RandomForestClassifier()],\n",
    "              'clf__n_estimators': [250, 500, 1000],\n",
    "              'clf__max_depth': [2,4,6]},\n",
    "              \n",
    "              {'processing__categorical__pca__n_components': [2,3,4],\n",
    "              'clf': [GaussianNB()]},\n",
    "              \n",
    "              {'processing__categorical__pca__n_components': [2,3,4],\n",
    "              'clf': [LinearSVC(dual=False)],\n",
    "              'clf__C': [0.8, 1.0, 1.2],\n",
    "              'clf__max_iter': [1000, 1500, 2000]},\n",
    "              \n",
    "              {'processing__categorical__pca__n_components': [2,3,4],\n",
    "               'clf': [AdaBoostClassifier()],\n",
    "               'clf__n_estimators': [1000, 1250, 1500],\n",
    "               'clf__learning_rate': [1.25, 1.5, 1.75]},\n",
    "              \n",
    "              {'processing__categorical__pca__n_components': [2,3,4],\n",
    "               'clf': [XGBClassifier(use_label_encoder=False, eval_metric='logloss')],\n",
    "               'clf__n_estimators': [100,200,500],\n",
    "               'clf__learning_rate': [0.6,0.8],\n",
    "               'clf__max_depth': [4,5],\n",
    "               'clf__colsample_bytree': [0.8,0.9]}\n",
    "             ]\n",
    "              "
   ]
  },
  {
   "cell_type": "code",
   "execution_count": 146,
   "id": "9a28db52-9a62-4da6-a77b-cdfecce5b816",
   "metadata": {},
   "outputs": [],
   "source": [
    "# create parameter grid for tuning\n",
    "\n",
    "param_grid = [{'processing__categorical__pca__n_components': [3],\n",
    "              'clf': [RandomForestClassifier()],\n",
    "              'clf__n_estimators': [500],\n",
    "              'clf__max_depth': [6]\n",
    "              }]"
   ]
  },
  {
   "cell_type": "code",
   "execution_count": 147,
   "id": "41765466-2b1b-43c2-92a8-16cf8aeb1ad8",
   "metadata": {},
   "outputs": [],
   "source": [
    "# instantiate gridsearch\n",
    "\n",
    "gridsearch = GridSearchCV(pipeline, param_grid=param_grid, n_jobs=-1)"
   ]
  },
  {
   "cell_type": "code",
   "execution_count": 148,
   "id": "fe3c8e01-063d-4581-8f88-7c7eadcdd0d0",
   "metadata": {},
   "outputs": [
    {
     "data": {
      "text/plain": [
       "GridSearchCV(estimator=Pipeline(steps=[('processing',\n",
       "                                        ColumnTransformer(transformers=[('numerical',\n",
       "                                                                         Pipeline(steps=[('num_impute',\n",
       "                                                                                          SimpleImputer()),\n",
       "                                                                                         ('transform',\n",
       "                                                                                          PowerTransformer())]),\n",
       "                                                                         ['ApplicantIncome',\n",
       "                                                                          'CoapplicantIncome',\n",
       "                                                                          'LoanAmount']),\n",
       "                                                                        ('categorical',\n",
       "                                                                         Pipeline(steps=[('cat_impute',\n",
       "                                                                                          SimpleImputer(strategy='most_frequent')),\n",
       "                                                                                         ('onehot',\n",
       "                                                                                          OneHotEncoder()),\n",
       "                                                                                         ('d...\n",
       "                                                                                          FunctionTransformer(func=<function credit_nan at 0x7f508ac2c9d0>))]),\n",
       "                                                                         ['Credit_History']),\n",
       "                                                                        ('term',\n",
       "                                                                         Pipeline(steps=[('num_impute',\n",
       "                                                                                          SimpleImputer()),\n",
       "                                                                                         ('scale',\n",
       "                                                                                          StandardScaler())]),\n",
       "                                                                         ['Loan_Amount_Term'])])),\n",
       "                                       ('clf', DecisionTreeClassifier())]),\n",
       "             n_jobs=-1,\n",
       "             param_grid=[{'clf': [RandomForestClassifier(max_depth=6,\n",
       "                                                         n_estimators=500)],\n",
       "                          'clf__max_depth': [6], 'clf__n_estimators': [500],\n",
       "                          'processing__categorical__pca__n_components': [3]}])"
      ]
     },
     "execution_count": 148,
     "metadata": {},
     "output_type": "execute_result"
    }
   ],
   "source": [
    "# fit gridsearch to training data\n",
    "\n",
    "gridsearch.fit(X_train, y_train)"
   ]
  },
  {
   "cell_type": "code",
   "execution_count": 149,
   "id": "d5394ce1-aee9-4438-8831-e1fcc13514fc",
   "metadata": {},
   "outputs": [
    {
     "name": "stdout",
     "output_type": "stream",
     "text": [
      "{'clf': RandomForestClassifier(max_depth=6, n_estimators=500), 'clf__max_depth': 6, 'clf__n_estimators': 500, 'processing__categorical__pca__n_components': 3}\n"
     ]
    }
   ],
   "source": [
    "# what did gridsearch find as best parameters?\n",
    "\n",
    "print(gridsearch.best_params_)"
   ]
  },
  {
   "cell_type": "markdown",
   "id": "12a5b20a-6fbc-4196-81d1-7774a7f4b25b",
   "metadata": {},
   "source": [
    "### Scoring the Model"
   ]
  },
  {
   "cell_type": "code",
   "execution_count": 150,
   "id": "08760551-57f2-44df-bdfe-c5a055c0a545",
   "metadata": {},
   "outputs": [
    {
     "name": "stdout",
     "output_type": "stream",
     "text": [
      "Best score is:  0.7730790491984522\n"
     ]
    }
   ],
   "source": [
    "print('Best score is: ', gridsearch.best_score_)"
   ]
  },
  {
   "cell_type": "code",
   "execution_count": 151,
   "id": "7a21352b-92f8-4a14-8206-da4a7a62a959",
   "metadata": {},
   "outputs": [
    {
     "name": "stdout",
     "output_type": "stream",
     "text": [
      "Test score is:  0.7642276422764228\n"
     ]
    }
   ],
   "source": [
    "# gridsearch final score\n",
    "\n",
    "print('Test score is: ', gridsearch.score(X_test, y_test))"
   ]
  },
  {
   "cell_type": "code",
   "execution_count": 152,
   "id": "533f4f5c-2eae-4c93-b9f6-ec25b8bc3d74",
   "metadata": {},
   "outputs": [
    {
     "data": {
      "text/plain": [
       "<sklearn.metrics._plot.confusion_matrix.ConfusionMatrixDisplay at 0x7f50e4753cd0>"
      ]
     },
     "execution_count": 152,
     "metadata": {},
     "output_type": "execute_result"
    },
    {
     "data": {
      "image/png": "[encoded data removed]",
      "text/plain": [
       "<Figure size 432x288 with 2 Axes>"
      ]
     },
     "metadata": {
      "needs_background": "light"
     },
     "output_type": "display_data"
    }
   ],
   "source": [
    "# check confusion matrix\n",
    "\n",
    "from sklearn import metrics\n",
    "\n",
    "y_pred = gridsearch.predict(X_test)\n",
    "cm = metrics.confusion_matrix(y_test, y_pred, labels=gridsearch.classes_)\n",
    "disp = metrics.ConfusionMatrixDisplay(cm, display_labels=gridsearch.classes_)\n",
    "disp.plot()"
   ]
  },
  {
   "cell_type": "markdown",
   "id": "8330c29e-fd80-49c0-9464-bc3d21f1f57e",
   "metadata": {
    "tags": []
   },
   "source": [
    "## Pickle the Model"
   ]
  },
  {
   "cell_type": "code",
   "execution_count": 86,
   "id": "e1902afb-47e1-45c0-b3e0-18c66bec1fcf",
   "metadata": {},
   "outputs": [],
   "source": [
    "import pickle"
   ]
  },
  {
   "cell_type": "code",
   "execution_count": 87,
   "id": "9e7e0e1a-9a70-4811-a1be-0304a8480bb5",
   "metadata": {},
   "outputs": [],
   "source": [
    "with open('model/clf.p', 'wb') as fh:\n",
    "   pickle.dump(gridsearch, fh)"
   ]
  },
  {
   "cell_type": "code",
   "execution_count": null,
   "id": "58ff368e-c3e3-4505-bce7-3a9e1ded5b80",
   "metadata": {},
   "outputs": [],
   "source": []
  },
  {
   "cell_type": "code",
   "execution_count": null,
   "id": "05ca6704-0b77-4aa0-87b1-9d54b49797dd",
   "metadata": {},
   "outputs": [],
   "source": []
  },
  {
   "cell_type": "code",
   "execution_count": null,
   "id": "d5d92076-03dc-476b-8eb7-9f40e6e141fc",
   "metadata": {},
   "outputs": [],
   "source": []
  },
  {
   "cell_type": "code",
   "execution_count": null,
   "id": "fdf5a792-b5ac-4ed9-a403-b68140878e4d",
   "metadata": {},
   "outputs": [],
   "source": []
  },
  {
   "cell_type": "code",
   "execution_count": null,
   "id": "0af3beda-668e-4dc9-a4c6-a15bc984a939",
   "metadata": {},
   "outputs": [],
   "source": []
  },
  {
   "cell_type": "code",
   "execution_count": null,
   "id": "950af1f4-f77d-4bb6-bd9a-f904cfa8b0e7",
   "metadata": {},
   "outputs": [],
   "source": []
  },
  {
   "cell_type": "code",
   "execution_count": null,
   "id": "7572a86e-b26c-4527-b3cd-7fb6763eff71",
   "metadata": {},
   "outputs": [],
   "source": []
  },
  {
   "cell_type": "code",
   "execution_count": null,
   "id": "143926a6-12ca-474c-9831-a03ed9544003",
   "metadata": {},
   "outputs": [],
   "source": []
  },
  {
   "cell_type": "code",
   "execution_count": null,
   "id": "a424ac1a-6c0e-4fe4-aa25-c2727d57c026",
   "metadata": {},
   "outputs": [],
   "source": []
  },
  {
   "cell_type": "code",
   "execution_count": null,
   "id": "710a0e52-912f-4c14-bc8b-7689d87a5579",
   "metadata": {},
   "outputs": [],
   "source": []
  },
  {
   "cell_type": "code",
   "execution_count": null,
   "id": "72561adc-4803-4bb5-9420-1f97e996a165",
   "metadata": {},
   "outputs": [],
   "source": []
  },
  {
   "cell_type": "code",
   "execution_count": null,
   "id": "e8a970fb-2d07-4e81-826f-acb8a13ca915",
   "metadata": {},
   "outputs": [],
   "source": []
  },
  {
   "cell_type": "code",
   "execution_count": null,
   "id": "4cf332a6-a3c1-4e60-88ec-c3106b9ebcd5",
   "metadata": {},
   "outputs": [],
   "source": []
  },
  {
   "cell_type": "code",
   "execution_count": null,
   "id": "3c55343b-87f9-40c1-8c8a-dae992170033",
   "metadata": {},
   "outputs": [],
   "source": []
  },
  {
   "cell_type": "code",
   "execution_count": null,
   "id": "e45f5c72-69e6-4106-aeca-ba5e2e3811fe",
   "metadata": {},
   "outputs": [],
   "source": []
  },
  {
   "cell_type": "code",
   "execution_count": null,
   "id": "804a2df7-5d39-41ea-b0d2-d03b33b4af6a",
   "metadata": {},
   "outputs": [],
   "source": []
  }
 ],
 "metadata": {
  "kernelspec": {
   "display_name": "lhl_env",
   "language": "python",
   "name": "lhl_env"
  },
  "language_info": {
   "codemirror_mode": {
    "name": "ipython",
    "version": 3
   },
   "file_extension": ".py",
   "mimetype": "text/x-python",
   "name": "python",
   "nbconvert_exporter": "python",
   "pygments_lexer": "ipython3",
   "version": "3.8.2"
  }
 },
 "nbformat": 4,
 "nbformat_minor": 5
}
